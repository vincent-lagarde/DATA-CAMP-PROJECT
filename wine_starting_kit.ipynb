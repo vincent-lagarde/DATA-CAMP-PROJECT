{
 "cells": [
  {
   "cell_type": "markdown",
   "metadata": {},
   "source": [
    "# **Data Challenge** :  Wine tasting competition"
   ]
  },
  {
   "cell_type": "markdown",
   "metadata": {},
   "source": [
    "*Solal Danan / sol-dnn*\n",
    "\n",
    "*Gaspard Blaise / gaspardblaise*\n",
    "\n",
    "*Lucas Aljancic / lucasaljc*\n",
    "\n",
    "*Vincent Lagarde / vincent-lagarde*\n",
    "\n",
    "*Gregoire Mourre / gregoiremrr*\n",
    "\n",
    "*Marceau Leclerc / marssoo*"
   ]
  },
  {
   "cell_type": "markdown",
   "metadata": {},
   "source": [
    "Oenology, the science and study of wine, is a field that combines tradition, expertise, and sensory analysis. France is a global leader in wine production and represents a tenth of world production. Moreover, the wine industry represents nearly 450,000 jobs in France. Renowned for its historic terroirs, exceptional wines, and culinary artistry, France is also celebrated for its mastery of sommelier expertise.\n"
   ]
  },
  {
   "cell_type": "markdown",
   "metadata": {},
   "source": [
    "\n",
    "<div style=\"display: flex; justify-content: center;\">\n",
    "    <img src=\"img/4.jpg\" alt=\"Image 3\" style=\"width:30%\">\n",
    "</div>"
   ]
  },
  {
   "cell_type": "markdown",
   "metadata": {},
   "source": [
    "Each year, wine enlightened enthusiasts and professional sommeliers compete in blind tasting competitions, where the goal is to identify key characteristics of a wine, such as its region, sub-region, grape variety, appellation, vintage, and even the estate. Participants rely on their extensive knowledge and sensory training to evaluate attributes like acidity, bitterness, tannins, color intensity, texture, and aromatic markers. For instance, a wine with pronounced lemon and hydrocarbon aromas, coupled with high acidity, is likely a Riesling from Alsace."
   ]
  },
  {
   "cell_type": "markdown",
   "metadata": {},
   "source": [
    "\n",
    "<div style=\"display: flex; justify-content: center;\">\n",
    "    <img src=\"img/3.jpg\" alt=\"Image 3\" style=\"width:40%\">\n",
    "    <img src=\"img/6.jpg\" alt=\"Image 3\" style=\"width:40%\">\n",
    "</div>"
   ]
  },
  {
   "cell_type": "markdown",
   "metadata": {},
   "source": [
    "Inspired by this tradition, we present a Data Challenge that bridges the worlds of oenology and data science. The objective is to train a model capable of predicting the origin of a wine based on its characteristics. Using [Vivino](Vivino.com), a popular app where wine enthusiasts rate and review wines, participants will analyze various features and tasting notes to classify wines by region. This challenge is a classification problem, where the goal is to accurately determine the wine's origin."
   ]
  },
  {
   "cell_type": "markdown",
   "metadata": {},
   "source": [
    "## **DATASET PRESENTATION**"
   ]
  },
  {
   "cell_type": "markdown",
   "metadata": {},
   "source": [
    "The data was obtained scraping a variety of page types on the [vivino website](vivino.com). Here is an overview of the process we went through to obtain the final dataset :\n",
    "- First we selected regions of interest, that would end up being our classes, such as Bourgogne. \n",
    "- For each of these regions, we scrapped all the wines we could, ending up with a file containing URLs to 9838 wine pages.\n",
    "- For each of these wine pages, we scrapped all its reviews, including the comment and other relevant information such as the number of likes, if available. We also saved the URLs of the profile providing the comment.\n",
    "- Using the profiles' URLs, we scrapped other relevant informations regarding the reviewers, such as their rankings and number of followers.\n",
    "- We merged all this information in a single `.tsv` file that can be loaded as below.\n",
    "\n",
    "The scrapping proved to be tough, requiring a total of 3 main scrapping scripts (one for every step). It was done using selenium in an under-optimized way at first (to scrap the wines and their reviews, which took about 12 hours using 2 computers). Later on when scrapping the users' profiles we encountered a new difficulty, our IP adresses being blocked very quickly after a hundred requests. As a results, we reworked our last scrapping script to detect when we get blocked, in order to trigger a rotation in IP adress using a VPN. This last leg was also run on 2 laptops, under 8 hours total.\n",
    "\n",
    "As a result of these difficulties and in addition to our scripts relying on computer-specific parameters (resolution for scrolling, for instance) and on manual merging of the data, we prefered not to include the code that was used to scrap this data. It has to be stressed however that all the data provided here is indeed public.\n",
    "\n",
    "In the end, we provide a dataset comprising 100,686 reviews on a total of 9838 wines. We're interested in classifying the wines per region, so the first 75% (7378) will be used in training and the remainder will be the testing set. Prior to the splitting, the comments were shuffled and regrouped by ID.\n",
    "\n",
    "Here is how the data is loaded :"
   ]
  },
  {
   "cell_type": "code",
   "execution_count": 1,
   "metadata": {},
   "outputs": [],
   "source": [
    "import pandas as pd\n",
    "import matplotlib.pyplot as plt\n",
    "\n",
    "import problem\n",
    "data, y = problem.get_train_data()"
   ]
  },
  {
   "cell_type": "code",
   "execution_count": 2,
   "metadata": {},
   "outputs": [
    {
     "data": {
      "text/html": [
       "<div>\n",
       "<style scoped>\n",
       "    .dataframe tbody tr th:only-of-type {\n",
       "        vertical-align: middle;\n",
       "    }\n",
       "\n",
       "    .dataframe tbody tr th {\n",
       "        vertical-align: top;\n",
       "    }\n",
       "\n",
       "    .dataframe thead th {\n",
       "        text-align: right;\n",
       "    }\n",
       "</style>\n",
       "<table border=\"1\" class=\"dataframe\">\n",
       "  <thead>\n",
       "    <tr style=\"text-align: right;\">\n",
       "      <th></th>\n",
       "      <th>wine_id</th>\n",
       "      <th>rating</th>\n",
       "      <th>vintage</th>\n",
       "      <th>comment</th>\n",
       "      <th>user</th>\n",
       "      <th>publication_date</th>\n",
       "      <th>likes</th>\n",
       "      <th>URL</th>\n",
       "      <th>Name</th>\n",
       "      <th>Country</th>\n",
       "      <th>Notes</th>\n",
       "      <th>Ranking in PT</th>\n",
       "      <th>Followers</th>\n",
       "      <th>Following</th>\n",
       "    </tr>\n",
       "  </thead>\n",
       "  <tbody>\n",
       "    <tr>\n",
       "      <th>0</th>\n",
       "      <td>1</td>\n",
       "      <td>5.0</td>\n",
       "      <td>2011.0</td>\n",
       "      <td>adore this wine. full. smoky but with less ear...</td>\n",
       "      <td>Sean Howell (540 ratings)</td>\n",
       "      <td>Feb 6, 2018</td>\n",
       "      <td>3.0</td>\n",
       "      <td>https://www.vivino.com/users/sean-howe</td>\n",
       "      <td>Sean Howell</td>\n",
       "      <td>NaN</td>\n",
       "      <td>540.0</td>\n",
       "      <td>17249.0</td>\n",
       "      <td>63</td>\n",
       "      <td>172</td>\n",
       "    </tr>\n",
       "    <tr>\n",
       "      <th>1</th>\n",
       "      <td>1</td>\n",
       "      <td>4.5</td>\n",
       "      <td>2011.0</td>\n",
       "      <td>interesting introduction to this wine. earthy ...</td>\n",
       "      <td>Sam Ong (402 ratings)</td>\n",
       "      <td>Nov 2, 2017</td>\n",
       "      <td>6.0</td>\n",
       "      <td>https://www.vivino.com/users/m5fcd464729e44ae9...</td>\n",
       "      <td>Sam Ong</td>\n",
       "      <td>Philippines</td>\n",
       "      <td>402.0</td>\n",
       "      <td>0.0</td>\n",
       "      <td>43</td>\n",
       "      <td>17</td>\n",
       "    </tr>\n",
       "    <tr>\n",
       "      <th>2</th>\n",
       "      <td>1</td>\n",
       "      <td>4.0</td>\n",
       "      <td>NaN</td>\n",
       "      <td>XXX high acidity , dark colors hints of black ...</td>\n",
       "      <td>Sherief Nazif (555 ratings)</td>\n",
       "      <td>Jan 8, 2023</td>\n",
       "      <td>2.0</td>\n",
       "      <td>https://www.vivino.com/users/sherief.nazif</td>\n",
       "      <td>Sherief Nazif</td>\n",
       "      <td>Egypt</td>\n",
       "      <td>596.0</td>\n",
       "      <td>2.0</td>\n",
       "      <td>32</td>\n",
       "      <td>10</td>\n",
       "    </tr>\n",
       "    <tr>\n",
       "      <th>3</th>\n",
       "      <td>1</td>\n",
       "      <td>4.5</td>\n",
       "      <td>2011.0</td>\n",
       "      <td>the perfect XXX</td>\n",
       "      <td>Winter (178 ratings)</td>\n",
       "      <td>Oct 26, 2022</td>\n",
       "      <td>0.0</td>\n",
       "      <td>https://www.vivino.com/users/wonbeen.kim</td>\n",
       "      <td>Winter</td>\n",
       "      <td>France</td>\n",
       "      <td>178.0</td>\n",
       "      <td>0.0</td>\n",
       "      <td>0</td>\n",
       "      <td>0</td>\n",
       "    </tr>\n",
       "    <tr>\n",
       "      <th>4</th>\n",
       "      <td>1</td>\n",
       "      <td>5.0</td>\n",
       "      <td>2011.0</td>\n",
       "      <td>full bodied, rich, smooth</td>\n",
       "      <td>Mimi Cheng (211 ratings)</td>\n",
       "      <td>Sep 4, 2017</td>\n",
       "      <td>0.0</td>\n",
       "      <td>https://www.vivino.com/users/mimi.chen</td>\n",
       "      <td>Mimi Cheng</td>\n",
       "      <td>NaN</td>\n",
       "      <td>212.0</td>\n",
       "      <td>42985.0</td>\n",
       "      <td>3</td>\n",
       "      <td>1</td>\n",
       "    </tr>\n",
       "  </tbody>\n",
       "</table>\n",
       "</div>"
      ],
      "text/plain": [
       "   wine_id  rating  vintage  \\\n",
       "0        1     5.0   2011.0   \n",
       "1        1     4.5   2011.0   \n",
       "2        1     4.0      NaN   \n",
       "3        1     4.5   2011.0   \n",
       "4        1     5.0   2011.0   \n",
       "\n",
       "                                             comment  \\\n",
       "0  adore this wine. full. smoky but with less ear...   \n",
       "1  interesting introduction to this wine. earthy ...   \n",
       "2  XXX high acidity , dark colors hints of black ...   \n",
       "3                                    the perfect XXX   \n",
       "4                          full bodied, rich, smooth   \n",
       "\n",
       "                          user publication_date  likes  \\\n",
       "0    Sean Howell (540 ratings)      Feb 6, 2018    3.0   \n",
       "1        Sam Ong (402 ratings)      Nov 2, 2017    6.0   \n",
       "2  Sherief Nazif (555 ratings)      Jan 8, 2023    2.0   \n",
       "3         Winter (178 ratings)     Oct 26, 2022    0.0   \n",
       "4     Mimi Cheng (211 ratings)      Sep 4, 2017    0.0   \n",
       "\n",
       "                                                 URL           Name  \\\n",
       "0             https://www.vivino.com/users/sean-howe    Sean Howell   \n",
       "1  https://www.vivino.com/users/m5fcd464729e44ae9...        Sam Ong   \n",
       "2         https://www.vivino.com/users/sherief.nazif  Sherief Nazif   \n",
       "3           https://www.vivino.com/users/wonbeen.kim         Winter   \n",
       "4             https://www.vivino.com/users/mimi.chen     Mimi Cheng   \n",
       "\n",
       "       Country  Notes  Ranking in PT  Followers  Following  \n",
       "0          NaN  540.0        17249.0         63        172  \n",
       "1  Philippines  402.0            0.0         43         17  \n",
       "2        Egypt  596.0            2.0         32         10  \n",
       "3       France  178.0            0.0          0          0  \n",
       "4          NaN  212.0        42985.0          3          1  "
      ]
     },
     "execution_count": 2,
     "metadata": {},
     "output_type": "execute_result"
    }
   ],
   "source": [
    "data.head()"
   ]
  },
  {
   "cell_type": "code",
   "execution_count": 3,
   "metadata": {},
   "outputs": [
    {
     "data": {
      "text/plain": [
       "0    0\n",
       "1    0\n",
       "2    0\n",
       "3    0\n",
       "4    0\n",
       "Name: region, dtype: int64"
      ]
     },
     "execution_count": 3,
     "metadata": {},
     "output_type": "execute_result"
    }
   ],
   "source": [
    "y.head()"
   ]
  },
  {
   "cell_type": "markdown",
   "metadata": {},
   "source": [
    "We can decode the regions :"
   ]
  },
  {
   "cell_type": "code",
   "execution_count": 4,
   "metadata": {},
   "outputs": [
    {
     "data": {
      "text/plain": [
       "0    Bordeaux\n",
       "1    Bordeaux\n",
       "2    Bordeaux\n",
       "3    Bordeaux\n",
       "4    Bordeaux\n",
       "Name: region, dtype: object"
      ]
     },
     "execution_count": 4,
     "metadata": {},
     "output_type": "execute_result"
    }
   ],
   "source": [
    "regions = problem.decode_label(y)\n",
    "regions.head()"
   ]
  },
  {
   "cell_type": "markdown",
   "metadata": {},
   "source": [
    "### **Features Overview**\n",
    "\n",
    "Each row in the dataset corresponds to a wine review on Vivino. Below is a detailed description of the columns:\n",
    "\n",
    "- **region**: This is the target variable we aim to predict. There are 11 distinct regions in the dataset, each with varying occurrence frequencies.\n",
    "\n",
    "- **wine_id**: This column uniquely identifies a wine. Multiple rows may refer to the same wine if it has received multiple reviews from different users.\n",
    "\n",
    "- **rating**: This is a user-assigned rating on a 5-point scale. A score of 5 indicates that the user highly enjoyed the wine.\n",
    "\n",
    "- **vintage**: This represents the vintage of the wine, i.e., the year the grapes were harvested to produce the wine.\n",
    "\n",
    "- **comment**: This is the user's review of the wine. Any information directly referencing a region has been censored. However, the comments may still contain valuable insights about the wine's characteristics that can help deduce its region.\n",
    "\n",
    "- **user**: This refers to the Vivino user profile of the individual who left the review.\n",
    "\n",
    "- **publication_date**: The date when the review was published.\n",
    "\n",
    "- **likes**: The number of likes the review received from other Vivino users.\n",
    "\n",
    "- **URL**: The full review page can be accessed via this URL.\n",
    "\n",
    "- **Name**: The username of the Vivino user who left the review.\n",
    "\n",
    "- **Country**: The country of the Vivino user.\n",
    "\n",
    "- **Notes**: The total number of reviews the user has made on Vivino, reflecting their experience on the platform.\n",
    "\n",
    "- **Ranking in PT**: The user's ranking as provided by Vivino.\n",
    "\n",
    "- **Followers**: The number of followers the user has.\n",
    "\n",
    "- **Following**: The number of users the user is following."
   ]
  },
  {
   "cell_type": "markdown",
   "metadata": {},
   "source": [
    "## Exploratory data analysis\n"
   ]
  },
  {
   "cell_type": "code",
   "execution_count": 5,
   "metadata": {},
   "outputs": [
    {
     "data": {
      "image/png": "[encoded data removed]",
      "text/plain": [
       "<Figure size 640x480 with 1 Axes>"
      ]
     },
     "metadata": {},
     "output_type": "display_data"
    }
   ],
   "source": [
    "import matplotlib.pyplot as plt\n",
    "# Distribution of ratings\n",
    "data.rating.value_counts().sort_index().plot(kind='bar')\n",
    "plt.xlabel('Ratings')\n",
    "plt.ylabel('Frequency')\n",
    "plt.title('Distribution of Ratings')\n",
    "plt.show()"
   ]
  },
  {
   "cell_type": "markdown",
   "metadata": {},
   "source": [
    "The reviews' grades are typically around 4 out of 5."
   ]
  },
  {
   "cell_type": "code",
   "execution_count": 6,
   "metadata": {},
   "outputs": [
    {
     "data": {
      "image/png": "[encoded data removed]",
      "text/plain": [
       "<Figure size 640x480 with 1 Axes>"
      ]
     },
     "metadata": {},
     "output_type": "display_data"
    }
   ],
   "source": [
    "# Distribution of followers\n",
    "plt.hist(data['Followers'], bins=100, range=(0, 1000))\n",
    "plt.xlabel('Number of Followers')\n",
    "plt.ylabel('Frequency')\n",
    "plt.title('Distribution of Number of Followers')\n",
    "plt.show()"
   ]
  },
  {
   "cell_type": "markdown",
   "metadata": {},
   "source": [
    "We do have a few high-profile reviewers."
   ]
  },
  {
   "cell_type": "code",
   "execution_count": 7,
   "metadata": {},
   "outputs": [
    {
     "data": {
      "image/png": "[encoded data removed]",
      "text/plain": [
       "<Figure size 640x480 with 1 Axes>"
      ]
     },
     "metadata": {},
     "output_type": "display_data"
    }
   ],
   "source": [
    "# Distribution of Notes\n",
    "plt.hist(data['Notes'], bins=100, range=(0, 10000))\n",
    "plt.xlabel('Number of Notes')\n",
    "plt.ylabel('Frequency')\n",
    "plt.title('Distribution of Notes')\n",
    "plt.show()"
   ]
  },
  {
   "cell_type": "markdown",
   "metadata": {},
   "source": [
    "We can see that some users comment much more than most others."
   ]
  },
  {
   "cell_type": "markdown",
   "metadata": {},
   "source": [
    "## Important feature : Tasting comments"
   ]
  },
  {
   "cell_type": "code",
   "execution_count": 8,
   "metadata": {},
   "outputs": [
    {
     "data": {
      "text/html": [
       "<div>\n",
       "<style scoped>\n",
       "    .dataframe tbody tr th:only-of-type {\n",
       "        vertical-align: middle;\n",
       "    }\n",
       "\n",
       "    .dataframe tbody tr th {\n",
       "        vertical-align: top;\n",
       "    }\n",
       "\n",
       "    .dataframe thead th {\n",
       "        text-align: right;\n",
       "    }\n",
       "</style>\n",
       "<table border=\"1\" class=\"dataframe\">\n",
       "  <thead>\n",
       "    <tr style=\"text-align: right;\">\n",
       "      <th></th>\n",
       "      <th>comment</th>\n",
       "    </tr>\n",
       "  </thead>\n",
       "  <tbody>\n",
       "    <tr>\n",
       "      <th>0</th>\n",
       "      <td>adore this wine. full. smoky but with less earth than tobacco .</td>\n",
       "    </tr>\n",
       "    <tr>\n",
       "      <th>1</th>\n",
       "      <td>interesting introduction to this wine. earthy notes, blackberry, vanilla, oak, spices. very chewy on the palate. balanced with velvety tannins. i thought this was the moulin 2010. good wine</td>\n",
       "    </tr>\n",
       "    <tr>\n",
       "      <th>2</th>\n",
       "      <td>XXX high acidity , dark colors hints of black cherry</td>\n",
       "    </tr>\n",
       "    <tr>\n",
       "      <th>3</th>\n",
       "      <td>the perfect XXX</td>\n",
       "    </tr>\n",
       "    <tr>\n",
       "      <th>4</th>\n",
       "      <td>full bodied, rich, smooth</td>\n",
       "    </tr>\n",
       "  </tbody>\n",
       "</table>\n",
       "</div>"
      ],
      "text/plain": [
       "                                                                                                                                                                                         comment\n",
       "0                                                                                                                                adore this wine. full. smoky but with less earth than tobacco .\n",
       "1  interesting introduction to this wine. earthy notes, blackberry, vanilla, oak, spices. very chewy on the palate. balanced with velvety tannins. i thought this was the moulin 2010. good wine\n",
       "2                                                                                                                                           XXX high acidity , dark colors hints of black cherry\n",
       "3                                                                                                                                                                                the perfect XXX\n",
       "4                                                                                                                                                                      full bodied, rich, smooth"
      ]
     },
     "execution_count": 8,
     "metadata": {},
     "output_type": "execute_result"
    }
   ],
   "source": [
    "df_comments = pd.DataFrame(data[\"comment\"], columns=[\"comment\"])\n",
    "pd.set_option('display.max_colwidth', None)\n",
    "df_comments.head()\n"
   ]
  },
  {
   "cell_type": "markdown",
   "metadata": {},
   "source": [
    "This will be of critical interest. We did censor (by `XXX`) the words that gave away too much information, just for the comment to not hold the classification answer in the review."
   ]
  },
  {
   "cell_type": "markdown",
   "metadata": {},
   "source": [
    "## Target : Predict the region (11 classes)"
   ]
  },
  {
   "cell_type": "code",
   "execution_count": 9,
   "metadata": {},
   "outputs": [
    {
     "data": {
      "text/plain": [
       "region\n",
       "Bordeaux                25036\n",
       "Bourgogne               11501\n",
       "Vallee du Rhone          9814\n",
       "Languedoc-Roussillon     8896\n",
       "Vallee de la Loire       7398\n",
       "Alsace                   3868\n",
       "Champagne                2798\n",
       "Sud Ouest                2682\n",
       "Provence                 2645\n",
       "Corse                     509\n",
       "Savoie                    379\n",
       "Name: count, dtype: int64"
      ]
     },
     "execution_count": 9,
     "metadata": {},
     "output_type": "execute_result"
    }
   ],
   "source": [
    "# Display the contents of the dataframe\n",
    "regions.value_counts()"
   ]
  },
  {
   "cell_type": "markdown",
   "metadata": {},
   "source": [
    "The target classes are heavily imbalanced. This does have implications, hence the choice of the evaluation metric (below)."
   ]
  },
  {
   "cell_type": "markdown",
   "metadata": {},
   "source": [
    "## **EVALUATION METRIC**"
   ]
  },
  {
   "cell_type": "markdown",
   "metadata": {},
   "source": [
    "# Balanced Accuracy Score\n",
    "\n",
    "# Definition  \n",
    "The **Balanced Accuracy Score** is a metric used to evaluate classification models, particularly when dealing with **imbalanced classes**. It is defined as the average of the **recall per class** over all classes.\n",
    "\n",
    "# Formula  \n",
    "For a multi-class classification problem with $C$ classes and its corresponding confusion matrix, the **Balanced Accuracy** is given by:\n",
    "\n",
    "$$\n",
    "\\text{Balanced Accuracy} = \\frac{1}{C} \\sum_{i=1}^{C}\\text{Accuracy}_i = \\frac{1}{C} \\sum_{i=1}^{C} \\frac{\\text{TP}_i}{\\text{TP}_i + \\text{FN}_i}\n",
    "$$\n",
    "\n",
    "where:  \n",
    "- $ \\text{TP}_i $ (True Positives) is the number of correctly classified instances of class $ i $.\n",
    "- $ \\text{FN}_i $ (False Negatives) is the number of instances of class $i $ misclassified into another class.\n",
    "\n",
    "\n",
    "Unlike **regular accuracy**, which can be misleading in the presence of imbalanced data, **Balanced Accuracy** ensures that each class contributes equally to the final score.\n"
   ]
  },
  {
   "cell_type": "markdown",
   "metadata": {},
   "source": []
  },
  {
   "cell_type": "markdown",
   "metadata": {},
   "source": [
    "## Submissions\n",
    "\n",
    "Again, the goal is to predict the correct region for each wine. In fact, we're evaluating the classification for each review. For the baselines, we ignore the fact that there are mutliple reviews for the same one. A good model will need to take this into account.\n",
    "\n",
    "### **BASELINES**"
   ]
  },
  {
   "cell_type": "code",
   "execution_count": 10,
   "metadata": {},
   "outputs": [],
   "source": [
    "import pandas as pd\n",
    "import torch\n",
    "import numpy as np\n",
    "import matplotlib.pyplot as plt\n",
    "from sklearn import model_selection\n",
    "from sklearn.metrics import balanced_accuracy_score\n",
    "from sklearn.model_selection import train_test_split"
   ]
  },
  {
   "cell_type": "markdown",
   "metadata": {},
   "source": [
    "#### Model 1 : We predict the most frequent region only"
   ]
  },
  {
   "cell_type": "code",
   "execution_count": 11,
   "metadata": {},
   "outputs": [
    {
     "name": "stdout",
     "output_type": "stream",
     "text": [
      "[0.09090909 0.09090909]\n"
     ]
    }
   ],
   "source": [
    "from sklearn.dummy import DummyClassifier\n",
    "from sklearn.model_selection import cross_val_score, StratifiedGroupKFold\n",
    "\n",
    "def get_estimator():\n",
    "    return DummyClassifier(strategy='most_frequent')\n",
    "\n",
    "cv = StratifiedGroupKFold(n_splits=2, shuffle=True, random_state=57)\n",
    "balanced_acc = cross_val_score(\n",
    "    get_estimator(),\n",
    "    data,\n",
    "    y,\n",
    "    cv=cv,\n",
    "    groups=data['wine_id'],  # Ensure wine_ids are in the same fold\n",
    "    scoring='balanced_accuracy'\n",
    ")\n",
    "\n",
    "print(balanced_acc)"
   ]
  },
  {
   "cell_type": "markdown",
   "metadata": {},
   "source": [
    "Of course the example above is ridiculous. Let's try something more informed."
   ]
  },
  {
   "cell_type": "markdown",
   "metadata": {},
   "source": [
    "#### Model 2 : Using only comments, TF-IDF + Random Forest"
   ]
  },
  {
   "cell_type": "code",
   "execution_count": 12,
   "metadata": {},
   "outputs": [],
   "source": [
    "# speeding things up (keeping a 5th of the dataset)\n",
    "data_short = data.iloc[:12000]\n",
    "y_short = y.iloc[:12000]"
   ]
  },
  {
   "cell_type": "code",
   "execution_count": 13,
   "metadata": {},
   "outputs": [
    {
     "name": "stdout",
     "output_type": "stream",
     "text": [
      "[0.25447657 0.2506639 ]\n"
     ]
    }
   ],
   "source": [
    "from sklearn.feature_extraction.text import TfidfVectorizer\n",
    "from sklearn.ensemble import RandomForestClassifier\n",
    "from sklearn.pipeline import Pipeline\n",
    "from sklearn.preprocessing import FunctionTransformer\n",
    "\n",
    "transformer = FunctionTransformer(lambda df: df[\"comment\"].fillna(\"\"), validate=False)\n",
    "\n",
    "vectorizer = TfidfVectorizer(max_features=5000, ngram_range=(1,2))\n",
    "rf_clf = RandomForestClassifier(n_estimators=100)\n",
    "\n",
    "pipe = Pipeline([\n",
    "    (\"text_isolator\", transformer),\n",
    "    (\"tfidf\", vectorizer),\n",
    "    (\"clf\", rf_clf)\n",
    "])\n",
    "\n",
    "def get_estimator():\n",
    "    return pipe\n",
    "\n",
    "\n",
    "# Evaluate like previously\n",
    "cv = StratifiedGroupKFold(n_splits=2, shuffle=True, random_state=57)\n",
    "balanced_acc = cross_val_score(\n",
    "    get_estimator(),\n",
    "    data_short,\n",
    "    y_short,\n",
    "    cv=cv,\n",
    "    groups=data_short['wine_id'],  # Ensure wine_ids are in the same fold\n",
    "    scoring='balanced_accuracy'\n",
    ")\n",
    "\n",
    "print(balanced_acc)"
   ]
  },
  {
   "cell_type": "markdown",
   "metadata": {},
   "source": [
    "Note that better results were observed when using the whole dataset, here we're just looking at 20% of the sub-training set."
   ]
  },
  {
   "cell_type": "markdown",
   "metadata": {},
   "source": [
    "#### Model 3 : Using only comments, sklearn Bert classifier.\n"
   ]
  },
  {
   "cell_type": "code",
   "execution_count": 14,
   "metadata": {},
   "outputs": [],
   "source": [
    "import torch\n",
    "import torch.nn as nn\n",
    "import torch.optim as optim\n",
    "from transformers import BertTokenizer, BertForSequenceClassification\n",
    "from torch.utils.data import Dataset, DataLoader\n",
    "from sklearn.base import BaseEstimator, ClassifierMixin\n",
    "\n",
    "#Custom Dataset for Wine Reviews\n",
    "class WineReviewDataset(Dataset):\n",
    "    def __init__(self, texts, labels, tokenizer, max_length=64):\n",
    "        # Convert texts and labels to lists to avoid indexing issues.\n",
    "        self.texts = list(texts)\n",
    "        self.labels = list(labels)\n",
    "        self.tokenizer = tokenizer\n",
    "        self.max_length = max_length\n",
    "\n",
    "    def __len__(self):\n",
    "        return len(self.texts)\n",
    "\n",
    "    def __getitem__(self, idx):\n",
    "        encoding = self.tokenizer(\n",
    "            self.texts[idx], \n",
    "            padding=\"max_length\", \n",
    "            truncation=True, \n",
    "            max_length=self.max_length, \n",
    "            return_tensors=\"pt\"\n",
    "        )\n",
    "        item = {key: val.squeeze(0) for key, val in encoding.items()}\n",
    "        item[\"labels\"] = torch.tensor(self.labels[idx], dtype=torch.long)\n",
    "        return item\n",
    "\n",
    "# Custom scikit-learn Estimator wrapping BERT\n",
    "class BertSklearnClassifier(BaseEstimator, ClassifierMixin):\n",
    "    def __init__(self, pretrained_model_name=\"bert-base-uncased\", max_length=64, epochs=1, batch_size=16, learning_rate=3e-5, device=None):\n",
    "        self.pretrained_model_name = pretrained_model_name\n",
    "        self.max_length = max_length\n",
    "        self.epochs = epochs\n",
    "        self.batch_size = batch_size\n",
    "        self.learning_rate = learning_rate\n",
    "        self.device = device if device is not None else (\"cuda\" if torch.cuda.is_available() else \"cpu\")\n",
    "        \n",
    "        self.tokenizer = BertTokenizer.from_pretrained(self.pretrained_model_name)\n",
    "        self.model = None  # Model will be created in fit()\n",
    "\n",
    "    def fit(self, X, y):\n",
    "        num_labels = len(np.unique(y))\n",
    "        self.model = BertForSequenceClassification.from_pretrained(self.pretrained_model_name, num_labels=num_labels)\n",
    "        self.model.to(self.device)\n",
    "        self.model.train()\n",
    "        \n",
    "        dataset = WineReviewDataset(X, y, self.tokenizer, max_length=self.max_length)\n",
    "        dataloader = DataLoader(dataset, batch_size=self.batch_size, shuffle=True)\n",
    "        \n",
    "        optimizer = optim.AdamW(self.model.parameters(), lr=self.learning_rate)\n",
    "        \n",
    "        for epoch in range(self.epochs):\n",
    "            total_loss = 0\n",
    "            for batch in dataloader:\n",
    "                batch = {k: v.to(self.device) for k, v in batch.items()}\n",
    "                optimizer.zero_grad()\n",
    "                outputs = self.model(**batch)\n",
    "                loss = outputs.loss\n",
    "                loss.backward()\n",
    "                optimizer.step()\n",
    "                total_loss += loss.item()\n",
    "            #print(f\"Epoch {epoch+1}/{self.epochs} - Loss: {total_loss/len(dataloader):.4f}\")\n",
    "        return self\n",
    "    \n",
    "    def predict(self, X):\n",
    "        dataset = WineReviewDataset(X, [0] * len(X), self.tokenizer, max_length=self.max_length)\n",
    "        dataloader = DataLoader(dataset, batch_size=self.batch_size, shuffle=False)\n",
    "        self.model.eval()\n",
    "        preds = []\n",
    "        with torch.no_grad():\n",
    "            for batch in dataloader:\n",
    "                # Exclude \"labels\" during prediction.\n",
    "                inputs = {k: v.to(self.device) for k, v in batch.items() if k != \"labels\"}\n",
    "                outputs = self.model(**inputs)\n",
    "                logits = outputs.logits\n",
    "                batch_preds = torch.argmax(logits, dim=1).cpu().numpy()\n",
    "                preds.extend(batch_preds)\n",
    "        return np.array(preds)\n",
    "    \n",
    "    def predict_proba(self, X):\n",
    "        # Returns class probabilities via softmax.\n",
    "        dataset = WineReviewDataset(X, [0] * len(X), self.tokenizer, max_length=self.max_length)\n",
    "        dataloader = DataLoader(dataset, batch_size=self.batch_size, shuffle=False)\n",
    "        self.model.eval()\n",
    "        all_probs = []\n",
    "        with torch.no_grad():\n",
    "            for batch in dataloader:\n",
    "                inputs = {k: v.to(self.device) for k, v in batch.items() if k != \"labels\"}\n",
    "                outputs = self.model(**inputs)\n",
    "                logits = outputs.logits\n",
    "                probs = torch.softmax(logits, dim=1).cpu().numpy()\n",
    "                all_probs.extend(probs)\n",
    "        return np.array(all_probs)\n",
    "    \n",
    "    def score(self, X, y):\n",
    "        # Use balanced accuracy as the score.\n",
    "        from sklearn.metrics import balanced_accuracy_score\n",
    "        preds = self.predict(X)\n",
    "        return balanced_accuracy_score(y, preds)\n"
   ]
  },
  {
   "cell_type": "code",
   "execution_count": 15,
   "metadata": {},
   "outputs": [
    {
     "name": "stderr",
     "output_type": "stream",
     "text": [
      "Some weights of BertForSequenceClassification were not initialized from the model checkpoint at bert-base-uncased and are newly initialized: ['classifier.bias', 'classifier.weight']\n",
      "You should probably TRAIN this model on a down-stream task to be able to use it for predictions and inference.\n",
      "/home/marceau/.local/lib/python3.10/site-packages/sklearn/pipeline.py:62: FutureWarning: This Pipeline instance is not fitted yet. Call 'fit' with appropriate arguments before using other methods such as transform, predict, etc. This will raise an error in 1.8 instead of the current warning.\n",
      "  warnings.warn(\n",
      "Some weights of BertForSequenceClassification were not initialized from the model checkpoint at bert-base-uncased and are newly initialized: ['classifier.bias', 'classifier.weight']\n",
      "You should probably TRAIN this model on a down-stream task to be able to use it for predictions and inference.\n"
     ]
    },
    {
     "name": "stdout",
     "output_type": "stream",
     "text": [
      "[0.2299096 0.1962242]\n"
     ]
    },
    {
     "name": "stderr",
     "output_type": "stream",
     "text": [
      "/home/marceau/.local/lib/python3.10/site-packages/sklearn/pipeline.py:62: FutureWarning: This Pipeline instance is not fitted yet. Call 'fit' with appropriate arguments before using other methods such as transform, predict, etc. This will raise an error in 1.8 instead of the current warning.\n",
      "  warnings.warn(\n"
     ]
    }
   ],
   "source": [
    "from sklearn.pipeline import Pipeline\n",
    "from sklearn.preprocessing import FunctionTransformer\n",
    "from sklearn.model_selection import StratifiedGroupKFold, cross_val_score\n",
    "\n",
    "# Transformer: isolate the \"comment\" column and fill missing values.\n",
    "transformer = FunctionTransformer(lambda df: df[\"comment\"].fillna(\"\"), validate=False)\n",
    "\n",
    "# Instantiate the custom BERT classifier.\n",
    "bert_clf = BertSklearnClassifier(\n",
    "    pretrained_model_name=\"bert-base-uncased\",\n",
    "    max_length=128,\n",
    "    epochs=1,\n",
    "    batch_size=16,\n",
    "    learning_rate=3e-5\n",
    ")\n",
    "\n",
    "# Build the pipeline: extract text then classify using BERT.\n",
    "pipe = Pipeline([\n",
    "    (\"text_isolator\", transformer),\n",
    "    (\"clf\", bert_clf)\n",
    "])\n",
    "\n",
    "def get_estimator():\n",
    "    return pipe\n",
    "\n",
    "# Evaluate using StratifiedGroupKFold with groups (e.g., wine_id stays in one fold)\n",
    "cv = StratifiedGroupKFold(n_splits=2, shuffle=True, random_state=57)\n",
    "balanced_acc = cross_val_score(\n",
    "    get_estimator(),\n",
    "    data_short,\n",
    "    y_short,\n",
    "    cv=cv,\n",
    "    groups=data_short['wine_id'],\n",
    "    scoring='balanced_accuracy'\n",
    ")\n",
    "\n",
    "print(balanced_acc)"
   ]
  },
  {
   "cell_type": "markdown",
   "metadata": {},
   "source": [
    "## **SUBMISSION**"
   ]
  },
  {
   "cell_type": "markdown",
   "metadata": {},
   "source": [
    "The default model in the starting kit is the 2nd one (using TF-IDF).\n",
    "\n",
    "To submit your code, you can refer to the [online documentation](https://paris-saclay-cds.github.io/ramp-docs/ramp-workflow/stable/using_kits.html). You can try the code locally by running:"
   ]
  },
  {
   "cell_type": "code",
   "execution_count": 16,
   "metadata": {},
   "outputs": [
    {
     "name": "stdout",
     "output_type": "stream",
     "text": [
      "\u001b[38;5;178m\u001b[1mTesting Wine Competition\u001b[0m\n",
      "\u001b[38;5;178m\u001b[1mReading train and test files from ./data/ ...\u001b[0m\n",
      "\u001b[38;5;178m\u001b[1mReading cv ...\u001b[0m\n",
      "\u001b[38;5;178m\u001b[1mTraining submissions/starting_kit ...\u001b[0m\n",
      "\u001b[38;5;178m\u001b[1mCV fold 0\u001b[0m\n",
      "\t\u001b[38;5;178m\u001b[1mscore  accuracy       time\u001b[0m\n",
      "\t\u001b[38;5;10m\u001b[1mtrain\u001b[0m    \u001b[38;5;10m\u001b[1m0.7640\u001b[0m  \u001b[38;5;150m39.945689\u001b[0m\n",
      "\t\u001b[38;5;12m\u001b[1mvalid\u001b[0m    \u001b[38;5;12m\u001b[1m0.2246\u001b[0m   \u001b[38;5;105m1.849333\u001b[0m\n",
      "\t\u001b[38;5;1m\u001b[1mtest\u001b[0m     \u001b[38;5;1m\u001b[1m0.1936\u001b[0m   \u001b[38;5;218m0.616435\u001b[0m\n",
      "\u001b[38;5;178m\u001b[1mCV fold 1\u001b[0m\n",
      "\t\u001b[38;5;178m\u001b[1mscore  accuracy       time\u001b[0m\n",
      "\t\u001b[38;5;10m\u001b[1mtrain\u001b[0m    \u001b[38;5;10m\u001b[1m0.7643\u001b[0m  \u001b[38;5;150m39.487994\u001b[0m\n",
      "\t\u001b[38;5;12m\u001b[1mvalid\u001b[0m    \u001b[38;5;12m\u001b[1m0.2540\u001b[0m   \u001b[38;5;105m1.833566\u001b[0m\n",
      "\t\u001b[38;5;1m\u001b[1mtest\u001b[0m     \u001b[38;5;1m\u001b[1m0.1905\u001b[0m   \u001b[38;5;218m0.639411\u001b[0m\n",
      "\u001b[38;5;178m\u001b[1mCV fold 2\u001b[0m\n",
      "\t\u001b[38;5;178m\u001b[1mscore  accuracy       time\u001b[0m\n",
      "\t\u001b[38;5;10m\u001b[1mtrain\u001b[0m    \u001b[38;5;10m\u001b[1m0.7676\u001b[0m  \u001b[38;5;150m40.183343\u001b[0m\n",
      "\t\u001b[38;5;12m\u001b[1mvalid\u001b[0m    \u001b[38;5;12m\u001b[1m0.2179\u001b[0m   \u001b[38;5;105m1.891427\u001b[0m\n",
      "\t\u001b[38;5;1m\u001b[1mtest\u001b[0m     \u001b[38;5;1m\u001b[1m0.1978\u001b[0m   \u001b[38;5;218m0.654540\u001b[0m\n",
      "\u001b[38;5;178m\u001b[1mCV fold 3\u001b[0m\n",
      "\t\u001b[38;5;178m\u001b[1mscore  accuracy       time\u001b[0m\n",
      "\t\u001b[38;5;10m\u001b[1mtrain\u001b[0m    \u001b[38;5;10m\u001b[1m0.7619\u001b[0m  \u001b[38;5;150m40.140366\u001b[0m\n",
      "\t\u001b[38;5;12m\u001b[1mvalid\u001b[0m    \u001b[38;5;12m\u001b[1m0.2164\u001b[0m   \u001b[38;5;105m1.833086\u001b[0m\n",
      "\t\u001b[38;5;1m\u001b[1mtest\u001b[0m     \u001b[38;5;1m\u001b[1m0.1874\u001b[0m   \u001b[38;5;218m0.632785\u001b[0m\n",
      "\u001b[38;5;178m\u001b[1mCV fold 4\u001b[0m\n",
      "\t\u001b[38;5;178m\u001b[1mscore  accuracy       time\u001b[0m\n",
      "\t\u001b[38;5;10m\u001b[1mtrain\u001b[0m    \u001b[38;5;10m\u001b[1m0.7635\u001b[0m  \u001b[38;5;150m40.364451\u001b[0m\n",
      "\t\u001b[38;5;12m\u001b[1mvalid\u001b[0m    \u001b[38;5;12m\u001b[1m0.2256\u001b[0m   \u001b[38;5;105m1.998226\u001b[0m\n",
      "\t\u001b[38;5;1m\u001b[1mtest\u001b[0m     \u001b[38;5;1m\u001b[1m0.1941\u001b[0m   \u001b[38;5;218m0.641278\u001b[0m\n",
      "\u001b[38;5;178m\u001b[1mCV fold 5\u001b[0m\n",
      "\t\u001b[38;5;178m\u001b[1mscore  accuracy       time\u001b[0m\n",
      "\t\u001b[38;5;10m\u001b[1mtrain\u001b[0m    \u001b[38;5;10m\u001b[1m0.7658\u001b[0m  \u001b[38;5;150m41.332711\u001b[0m\n",
      "\t\u001b[38;5;12m\u001b[1mvalid\u001b[0m    \u001b[38;5;12m\u001b[1m0.2011\u001b[0m   \u001b[38;5;105m1.892440\u001b[0m\n",
      "\t\u001b[38;5;1m\u001b[1mtest\u001b[0m     \u001b[38;5;1m\u001b[1m0.1962\u001b[0m   \u001b[38;5;218m0.635361\u001b[0m\n",
      "\u001b[38;5;178m\u001b[1mCV fold 6\u001b[0m\n",
      "\t\u001b[38;5;178m\u001b[1mscore  accuracy       time\u001b[0m\n",
      "\t\u001b[38;5;10m\u001b[1mtrain\u001b[0m    \u001b[38;5;10m\u001b[1m0.7655\u001b[0m  \u001b[38;5;150m40.714694\u001b[0m\n",
      "\t\u001b[38;5;12m\u001b[1mvalid\u001b[0m    \u001b[38;5;12m\u001b[1m0.1938\u001b[0m   \u001b[38;5;105m1.856097\u001b[0m\n",
      "\t\u001b[38;5;1m\u001b[1mtest\u001b[0m     \u001b[38;5;1m\u001b[1m0.2003\u001b[0m   \u001b[38;5;218m0.640618\u001b[0m\n",
      "\u001b[38;5;178m\u001b[1mCV fold 7\u001b[0m\n",
      "\t\u001b[38;5;178m\u001b[1mscore  accuracy       time\u001b[0m\n",
      "\t\u001b[38;5;10m\u001b[1mtrain\u001b[0m    \u001b[38;5;10m\u001b[1m0.7673\u001b[0m  \u001b[38;5;150m40.692094\u001b[0m\n",
      "\t\u001b[38;5;12m\u001b[1mvalid\u001b[0m    \u001b[38;5;12m\u001b[1m0.2102\u001b[0m   \u001b[38;5;105m1.989769\u001b[0m\n",
      "\t\u001b[38;5;1m\u001b[1mtest\u001b[0m     \u001b[38;5;1m\u001b[1m0.1970\u001b[0m   \u001b[38;5;218m0.644921\u001b[0m\n",
      "\u001b[38;5;178m\u001b[1m----------------------------\u001b[0m\n",
      "\u001b[38;5;178m\u001b[1mMean CV scores\u001b[0m\n",
      "\u001b[38;5;178m\u001b[1m----------------------------\u001b[0m\n",
      "\t\u001b[38;5;178m\u001b[1mscore         accuracy         time\u001b[0m\n",
      "\t\u001b[38;5;10m\u001b[1mtrain\u001b[0m  \u001b[38;5;10m\u001b[1m0.765\u001b[0m \u001b[38;5;150m\u001b[38;5;150m±\u001b[0m\u001b[0m \u001b[38;5;150m0.00182\u001b[0m  \u001b[38;5;150m40.4\u001b[0m \u001b[38;5;150m\u001b[38;5;150m±\u001b[0m\u001b[0m \u001b[38;5;150m0.52\u001b[0m\n",
      "\t\u001b[38;5;12m\u001b[1mvalid\u001b[0m  \u001b[38;5;12m\u001b[1m0.218\u001b[0m \u001b[38;5;105m\u001b[38;5;105m±\u001b[0m\u001b[0m \u001b[38;5;105m0.01707\u001b[0m   \u001b[38;5;105m1.9\u001b[0m \u001b[38;5;105m\u001b[38;5;105m±\u001b[0m\u001b[0m \u001b[38;5;105m0.06\u001b[0m\n",
      "\t\u001b[38;5;1m\u001b[1mtest\u001b[0m   \u001b[38;5;1m\u001b[1m0.1946\u001b[0m \u001b[38;5;218m\u001b[38;5;218m±\u001b[0m\u001b[0m \u001b[38;5;218m0.0039\u001b[0m   \u001b[38;5;218m0.6\u001b[0m \u001b[38;5;218m\u001b[38;5;218m±\u001b[0m\u001b[0m \u001b[38;5;218m0.01\u001b[0m\n",
      "\u001b[38;5;178m\u001b[1m----------------------------\u001b[0m\n",
      "\u001b[38;5;178m\u001b[1mBagged scores\u001b[0m\n",
      "\u001b[38;5;178m\u001b[1m----------------------------\u001b[0m\n",
      "\t\u001b[38;5;178m\u001b[1mscore  accuracy\u001b[0m\n",
      "\t\u001b[38;5;12m\u001b[1mvalid\u001b[0m    \u001b[38;5;12m\u001b[1m0.2205\u001b[0m\n",
      "\t\u001b[38;5;1m\u001b[1mtest\u001b[0m     \u001b[38;5;1m\u001b[1m0.2076\u001b[0m\n"
     ]
    }
   ],
   "source": [
    "!ramp-test --submission starting_kit --quick-test"
   ]
  },
  {
   "cell_type": "markdown",
   "metadata": {},
   "source": [
    "## **Good luck for this competition !** "
   ]
  },
  {
   "cell_type": "markdown",
   "metadata": {},
   "source": [
    "<div style=\"display: flex; justify-content: center;\">\n",
    "    <img src=\"img/5.jpg\" alt=\"Image 3\" style=\"width:60%\">\n",
    "</div>"
   ]
  }
 ],
 "metadata": {
  "kernelspec": {
   "display_name": "base",
   "language": "python",
   "name": "python3"
  },
  "language_info": {
   "codemirror_mode": {
    "name": "ipython",
    "version": 3
   },
   "file_extension": ".py",
   "mimetype": "text/x-python",
   "name": "python",
   "nbconvert_exporter": "python",
   "pygments_lexer": "ipython3",
   "version": "3.10.16"
  }
 },
 "nbformat": 4,
 "nbformat_minor": 2
}
